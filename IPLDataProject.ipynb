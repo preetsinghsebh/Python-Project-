{
 "cells": [
  {
   "cell_type": "code",
   "execution_count": 1,
   "id": "ed9e64eb-b8e7-4d8b-b4f3-1083d894a32d",
   "metadata": {},
   "outputs": [],
   "source": [
    "import pandas as pd #for data manipulation\n",
    "from matplotlib import pyplot as plt  #for visuialisation\n",
    "import seaborn as sns #for visualisation"
   ]
  },
  {
   "cell_type": "code",
   "execution_count": 2,
   "id": "1db06777-3d27-4d21-b0ba-3520596017c6",
   "metadata": {},
   "outputs": [],
   "source": [
    "ipl=pd.read_csv('Downloads/archive/IPL_Matches_2022.csv')"
   ]
  },
  {
   "cell_type": "code",
   "execution_count": 3,
   "id": "50bd9502-b549-4090-9b8f-794b2eb2fcff",
   "metadata": {
    "scrolled": true
   },
   "outputs": [
    {
     "data": {
      "text/html": [
       "<div>\n",
       "<style scoped>\n",
       "    .dataframe tbody tr th:only-of-type {\n",
       "        vertical-align: middle;\n",
       "    }\n",
       "\n",
       "    .dataframe tbody tr th {\n",
       "        vertical-align: top;\n",
       "    }\n",
       "\n",
       "    .dataframe thead th {\n",
       "        text-align: right;\n",
       "    }\n",
       "</style>\n",
       "<table border=\"1\" class=\"dataframe\">\n",
       "  <thead>\n",
       "    <tr style=\"text-align: right;\">\n",
       "      <th></th>\n",
       "      <th>ID</th>\n",
       "      <th>City</th>\n",
       "      <th>Date</th>\n",
       "      <th>Season</th>\n",
       "      <th>MatchNumber</th>\n",
       "      <th>Team1</th>\n",
       "      <th>Team2</th>\n",
       "      <th>Venue</th>\n",
       "      <th>TossWinner</th>\n",
       "      <th>TossDecision</th>\n",
       "      <th>SuperOver</th>\n",
       "      <th>WinningTeam</th>\n",
       "      <th>WonBy</th>\n",
       "      <th>Margin</th>\n",
       "      <th>method</th>\n",
       "      <th>Player_of_Match</th>\n",
       "      <th>Team1Players</th>\n",
       "      <th>Team2Players</th>\n",
       "      <th>Umpire1</th>\n",
       "      <th>Umpire2</th>\n",
       "    </tr>\n",
       "  </thead>\n",
       "  <tbody>\n",
       "    <tr>\n",
       "      <th>0</th>\n",
       "      <td>1312200</td>\n",
       "      <td>Ahmedabad</td>\n",
       "      <td>2022-05-29</td>\n",
       "      <td>2022</td>\n",
       "      <td>Final</td>\n",
       "      <td>Rajasthan Royals</td>\n",
       "      <td>Gujarat Titans</td>\n",
       "      <td>Narendra Modi Stadium, Ahmedabad</td>\n",
       "      <td>Rajasthan Royals</td>\n",
       "      <td>bat</td>\n",
       "      <td>N</td>\n",
       "      <td>Gujarat Titans</td>\n",
       "      <td>Wickets</td>\n",
       "      <td>7</td>\n",
       "      <td>NaN</td>\n",
       "      <td>HH Pandya</td>\n",
       "      <td>['YBK Jaiswal', 'JC Buttler', 'SV Samson', 'D ...</td>\n",
       "      <td>['WP Saha', 'Shubman Gill', 'MS Wade', 'HH Pan...</td>\n",
       "      <td>CB Gaffaney</td>\n",
       "      <td>Nitin Menon</td>\n",
       "    </tr>\n",
       "    <tr>\n",
       "      <th>1</th>\n",
       "      <td>1312199</td>\n",
       "      <td>Ahmedabad</td>\n",
       "      <td>2022-05-27</td>\n",
       "      <td>2022</td>\n",
       "      <td>Qualifier 2</td>\n",
       "      <td>Royal Challengers Bangalore</td>\n",
       "      <td>Rajasthan Royals</td>\n",
       "      <td>Narendra Modi Stadium, Ahmedabad</td>\n",
       "      <td>Rajasthan Royals</td>\n",
       "      <td>field</td>\n",
       "      <td>N</td>\n",
       "      <td>Rajasthan Royals</td>\n",
       "      <td>Wickets</td>\n",
       "      <td>7</td>\n",
       "      <td>NaN</td>\n",
       "      <td>JC Buttler</td>\n",
       "      <td>['V Kohli', 'F du Plessis', 'RM Patidar', 'GJ ...</td>\n",
       "      <td>['YBK Jaiswal', 'JC Buttler', 'SV Samson', 'D ...</td>\n",
       "      <td>CB Gaffaney</td>\n",
       "      <td>Nitin Menon</td>\n",
       "    </tr>\n",
       "    <tr>\n",
       "      <th>2</th>\n",
       "      <td>1312198</td>\n",
       "      <td>Kolkata</td>\n",
       "      <td>2022-05-25</td>\n",
       "      <td>2022</td>\n",
       "      <td>Eliminator</td>\n",
       "      <td>Royal Challengers Bangalore</td>\n",
       "      <td>Lucknow Super Giants</td>\n",
       "      <td>Eden Gardens, Kolkata</td>\n",
       "      <td>Lucknow Super Giants</td>\n",
       "      <td>field</td>\n",
       "      <td>N</td>\n",
       "      <td>Royal Challengers Bangalore</td>\n",
       "      <td>Runs</td>\n",
       "      <td>14</td>\n",
       "      <td>NaN</td>\n",
       "      <td>RM Patidar</td>\n",
       "      <td>['V Kohli', 'F du Plessis', 'RM Patidar', 'GJ ...</td>\n",
       "      <td>['Q de Kock', 'KL Rahul', 'M Vohra', 'DJ Hooda...</td>\n",
       "      <td>J Madanagopal</td>\n",
       "      <td>MA Gough</td>\n",
       "    </tr>\n",
       "    <tr>\n",
       "      <th>3</th>\n",
       "      <td>1312197</td>\n",
       "      <td>Kolkata</td>\n",
       "      <td>2022-05-24</td>\n",
       "      <td>2022</td>\n",
       "      <td>Qualifier 1</td>\n",
       "      <td>Rajasthan Royals</td>\n",
       "      <td>Gujarat Titans</td>\n",
       "      <td>Eden Gardens, Kolkata</td>\n",
       "      <td>Gujarat Titans</td>\n",
       "      <td>field</td>\n",
       "      <td>N</td>\n",
       "      <td>Gujarat Titans</td>\n",
       "      <td>Wickets</td>\n",
       "      <td>7</td>\n",
       "      <td>NaN</td>\n",
       "      <td>DA Miller</td>\n",
       "      <td>['YBK Jaiswal', 'JC Buttler', 'SV Samson', 'D ...</td>\n",
       "      <td>['WP Saha', 'Shubman Gill', 'MS Wade', 'HH Pan...</td>\n",
       "      <td>BNJ Oxenford</td>\n",
       "      <td>VK Sharma</td>\n",
       "    </tr>\n",
       "    <tr>\n",
       "      <th>4</th>\n",
       "      <td>1304116</td>\n",
       "      <td>Mumbai</td>\n",
       "      <td>2022-05-22</td>\n",
       "      <td>2022</td>\n",
       "      <td>70</td>\n",
       "      <td>Sunrisers Hyderabad</td>\n",
       "      <td>Punjab Kings</td>\n",
       "      <td>Wankhede Stadium, Mumbai</td>\n",
       "      <td>Sunrisers Hyderabad</td>\n",
       "      <td>bat</td>\n",
       "      <td>N</td>\n",
       "      <td>Punjab Kings</td>\n",
       "      <td>Wickets</td>\n",
       "      <td>5</td>\n",
       "      <td>NaN</td>\n",
       "      <td>Harpreet Brar</td>\n",
       "      <td>['PK Garg', 'Abhishek Sharma', 'RA Tripathi', ...</td>\n",
       "      <td>['JM Bairstow', 'S Dhawan', 'M Shahrukh Khan',...</td>\n",
       "      <td>AK Chaudhary</td>\n",
       "      <td>NA Patwardhan</td>\n",
       "    </tr>\n",
       "  </tbody>\n",
       "</table>\n",
       "</div>"
      ],
      "text/plain": [
       "        ID       City        Date  Season  MatchNumber  \\\n",
       "0  1312200  Ahmedabad  2022-05-29    2022        Final   \n",
       "1  1312199  Ahmedabad  2022-05-27    2022  Qualifier 2   \n",
       "2  1312198    Kolkata  2022-05-25    2022   Eliminator   \n",
       "3  1312197    Kolkata  2022-05-24    2022  Qualifier 1   \n",
       "4  1304116     Mumbai  2022-05-22    2022           70   \n",
       "\n",
       "                         Team1                 Team2  \\\n",
       "0             Rajasthan Royals        Gujarat Titans   \n",
       "1  Royal Challengers Bangalore      Rajasthan Royals   \n",
       "2  Royal Challengers Bangalore  Lucknow Super Giants   \n",
       "3             Rajasthan Royals        Gujarat Titans   \n",
       "4          Sunrisers Hyderabad          Punjab Kings   \n",
       "\n",
       "                              Venue            TossWinner TossDecision  \\\n",
       "0  Narendra Modi Stadium, Ahmedabad      Rajasthan Royals          bat   \n",
       "1  Narendra Modi Stadium, Ahmedabad      Rajasthan Royals        field   \n",
       "2             Eden Gardens, Kolkata  Lucknow Super Giants        field   \n",
       "3             Eden Gardens, Kolkata        Gujarat Titans        field   \n",
       "4          Wankhede Stadium, Mumbai   Sunrisers Hyderabad          bat   \n",
       "\n",
       "  SuperOver                  WinningTeam    WonBy  Margin  method  \\\n",
       "0         N               Gujarat Titans  Wickets       7     NaN   \n",
       "1         N             Rajasthan Royals  Wickets       7     NaN   \n",
       "2         N  Royal Challengers Bangalore     Runs      14     NaN   \n",
       "3         N               Gujarat Titans  Wickets       7     NaN   \n",
       "4         N                 Punjab Kings  Wickets       5     NaN   \n",
       "\n",
       "  Player_of_Match                                       Team1Players  \\\n",
       "0       HH Pandya  ['YBK Jaiswal', 'JC Buttler', 'SV Samson', 'D ...   \n",
       "1      JC Buttler  ['V Kohli', 'F du Plessis', 'RM Patidar', 'GJ ...   \n",
       "2      RM Patidar  ['V Kohli', 'F du Plessis', 'RM Patidar', 'GJ ...   \n",
       "3       DA Miller  ['YBK Jaiswal', 'JC Buttler', 'SV Samson', 'D ...   \n",
       "4   Harpreet Brar  ['PK Garg', 'Abhishek Sharma', 'RA Tripathi', ...   \n",
       "\n",
       "                                        Team2Players        Umpire1  \\\n",
       "0  ['WP Saha', 'Shubman Gill', 'MS Wade', 'HH Pan...    CB Gaffaney   \n",
       "1  ['YBK Jaiswal', 'JC Buttler', 'SV Samson', 'D ...    CB Gaffaney   \n",
       "2  ['Q de Kock', 'KL Rahul', 'M Vohra', 'DJ Hooda...  J Madanagopal   \n",
       "3  ['WP Saha', 'Shubman Gill', 'MS Wade', 'HH Pan...   BNJ Oxenford   \n",
       "4  ['JM Bairstow', 'S Dhawan', 'M Shahrukh Khan',...   AK Chaudhary   \n",
       "\n",
       "         Umpire2  \n",
       "0    Nitin Menon  \n",
       "1    Nitin Menon  \n",
       "2       MA Gough  \n",
       "3      VK Sharma  \n",
       "4  NA Patwardhan  "
      ]
     },
     "execution_count": 3,
     "metadata": {},
     "output_type": "execute_result"
    }
   ],
   "source": [
    "ipl.head()#for thr first five records"
   ]
  },
  {
   "cell_type": "code",
   "execution_count": 4,
   "id": "2a6b006b-c605-433b-9901-9f1b1ecdd9a3",
   "metadata": {},
   "outputs": [
    {
     "data": {
      "text/plain": [
       "(74, 20)"
      ]
     },
     "execution_count": 4,
     "metadata": {},
     "output_type": "execute_result"
    }
   ],
   "source": [
    "ipl.shape"
   ]
  },
  {
   "cell_type": "code",
   "execution_count": 5,
   "id": "aff742ea-a1c0-42f8-98b5-23ed99f42678",
   "metadata": {},
   "outputs": [
    {
     "data": {
      "text/plain": [
       "TossWinner\n",
       "Gujarat Titans                 10\n",
       "Sunrisers Hyderabad            10\n",
       "Mumbai Indians                  9\n",
       "Kolkata Knight Riders           8\n",
       "Royal Challengers Bangalore     8\n",
       "Delhi Capitals                  8\n",
       "Lucknow Super Giants            7\n",
       "Chennai Super Kings             6\n",
       "Rajasthan Royals                4\n",
       "Punjab Kings                    4\n",
       "Name: count, dtype: int64"
      ]
     },
     "execution_count": 5,
     "metadata": {},
     "output_type": "execute_result"
    }
   ],
   "source": [
    "ipl['TossWinner'].value_counts()"
   ]
  },
  {
   "cell_type": "code",
   "execution_count": 6,
   "id": "98f9d747-27b1-44e6-8484-538fad792162",
   "metadata": {},
   "outputs": [
    {
     "data": {
      "text/plain": [
       "TossWinner\n",
       "Gujarat Titans           10\n",
       "Sunrisers Hyderabad      10\n",
       "Mumbai Indians            9\n",
       "Kolkata Knight Riders     8\n",
       "Name: count, dtype: int64"
      ]
     },
     "execution_count": 6,
     "metadata": {},
     "output_type": "execute_result"
    }
   ],
   "source": [
    "ipl['TossWinner'].value_counts()[0:4]"
   ]
  },
  {
   "cell_type": "code",
   "execution_count": 7,
   "id": "33e0331d-d279-4c24-801c-b26302f6c0d8",
   "metadata": {},
   "outputs": [
    {
     "data": {
      "text/plain": [
       "['Gujarat Titans',\n",
       " 'Sunrisers Hyderabad',\n",
       " 'Mumbai Indians',\n",
       " 'Kolkata Knight Riders']"
      ]
     },
     "execution_count": 7,
     "metadata": {},
     "output_type": "execute_result"
    }
   ],
   "source": [
    "list(ipl['TossWinner'].value_counts()[0:4].keys())"
   ]
  },
  {
   "cell_type": "code",
   "execution_count": 8,
   "id": "0a8fc451-a2c8-434a-a791-86823d4b9d1a",
   "metadata": {},
   "outputs": [
    {
     "data": {
      "image/png": "[encoded data removed]",
      "text/plain": [
       "<Figure size 1000x500 with 1 Axes>"
      ]
     },
     "metadata": {},
     "output_type": "display_data"
    }
   ],
   "source": [
    "plt.figure(figsize=(10,5))\n",
    "plt.bar(list(ipl['TossWinner'].value_counts()[0:4].keys()),list(ipl['TossWinner'].value_counts()[0:4]),color='r')\n",
    "plt.show()"
   ]
  },
  {
   "cell_type": "code",
   "execution_count": 9,
   "id": "d793e6a9-52c2-4f43-9ae4-87af4e054840",
   "metadata": {},
   "outputs": [
    {
     "data": {
      "text/plain": [
       "TossWinner\n",
       "Gujarat Titans                 10\n",
       "Sunrisers Hyderabad            10\n",
       "Mumbai Indians                  9\n",
       "Kolkata Knight Riders           8\n",
       "Royal Challengers Bangalore     8\n",
       "Delhi Capitals                  8\n",
       "Lucknow Super Giants            7\n",
       "Chennai Super Kings             6\n",
       "Rajasthan Royals                4\n",
       "Punjab Kings                    4\n",
       "Name: count, dtype: int64"
      ]
     },
     "execution_count": 9,
     "metadata": {},
     "output_type": "execute_result"
    }
   ],
   "source": [
    "ipl['TossWinner'].value_counts()"
   ]
  },
  {
   "cell_type": "code",
   "execution_count": 12,
   "id": "a17a1c60-5dfc-40d1-82fb-71f67fddcbde",
   "metadata": {},
   "outputs": [],
   "source": [
    "TeamWon=ipl[ipl['WonBy']!=0]"
   ]
  },
  {
   "cell_type": "code",
   "execution_count": 21,
   "id": "570dad41-c80e-4135-906a-1741b4c978fa",
   "metadata": {},
   "outputs": [
    {
     "data": {
      "text/html": [
       "<div>\n",
       "<style scoped>\n",
       "    .dataframe tbody tr th:only-of-type {\n",
       "        vertical-align: middle;\n",
       "    }\n",
       "\n",
       "    .dataframe tbody tr th {\n",
       "        vertical-align: top;\n",
       "    }\n",
       "\n",
       "    .dataframe thead th {\n",
       "        text-align: right;\n",
       "    }\n",
       "</style>\n",
       "<table border=\"1\" class=\"dataframe\">\n",
       "  <thead>\n",
       "    <tr style=\"text-align: right;\">\n",
       "      <th></th>\n",
       "      <th>ID</th>\n",
       "      <th>City</th>\n",
       "      <th>Date</th>\n",
       "      <th>Season</th>\n",
       "      <th>MatchNumber</th>\n",
       "      <th>Team1</th>\n",
       "      <th>Team2</th>\n",
       "      <th>Venue</th>\n",
       "      <th>TossWinner</th>\n",
       "      <th>TossDecision</th>\n",
       "      <th>SuperOver</th>\n",
       "      <th>WinningTeam</th>\n",
       "      <th>WonBy</th>\n",
       "      <th>Margin</th>\n",
       "      <th>method</th>\n",
       "      <th>Player_of_Match</th>\n",
       "      <th>Team1Players</th>\n",
       "      <th>Team2Players</th>\n",
       "      <th>Umpire1</th>\n",
       "      <th>Umpire2</th>\n",
       "    </tr>\n",
       "  </thead>\n",
       "  <tbody>\n",
       "    <tr>\n",
       "      <th>0</th>\n",
       "      <td>1312200</td>\n",
       "      <td>Ahmedabad</td>\n",
       "      <td>2022-05-29</td>\n",
       "      <td>2022</td>\n",
       "      <td>Final</td>\n",
       "      <td>Rajasthan Royals</td>\n",
       "      <td>Gujarat Titans</td>\n",
       "      <td>Narendra Modi Stadium, Ahmedabad</td>\n",
       "      <td>Rajasthan Royals</td>\n",
       "      <td>bat</td>\n",
       "      <td>N</td>\n",
       "      <td>Gujarat Titans</td>\n",
       "      <td>Wickets</td>\n",
       "      <td>7</td>\n",
       "      <td>NaN</td>\n",
       "      <td>HH Pandya</td>\n",
       "      <td>['YBK Jaiswal', 'JC Buttler', 'SV Samson', 'D ...</td>\n",
       "      <td>['WP Saha', 'Shubman Gill', 'MS Wade', 'HH Pan...</td>\n",
       "      <td>CB Gaffaney</td>\n",
       "      <td>Nitin Menon</td>\n",
       "    </tr>\n",
       "    <tr>\n",
       "      <th>1</th>\n",
       "      <td>1312199</td>\n",
       "      <td>Ahmedabad</td>\n",
       "      <td>2022-05-27</td>\n",
       "      <td>2022</td>\n",
       "      <td>Qualifier 2</td>\n",
       "      <td>Royal Challengers Bangalore</td>\n",
       "      <td>Rajasthan Royals</td>\n",
       "      <td>Narendra Modi Stadium, Ahmedabad</td>\n",
       "      <td>Rajasthan Royals</td>\n",
       "      <td>field</td>\n",
       "      <td>N</td>\n",
       "      <td>Rajasthan Royals</td>\n",
       "      <td>Wickets</td>\n",
       "      <td>7</td>\n",
       "      <td>NaN</td>\n",
       "      <td>JC Buttler</td>\n",
       "      <td>['V Kohli', 'F du Plessis', 'RM Patidar', 'GJ ...</td>\n",
       "      <td>['YBK Jaiswal', 'JC Buttler', 'SV Samson', 'D ...</td>\n",
       "      <td>CB Gaffaney</td>\n",
       "      <td>Nitin Menon</td>\n",
       "    </tr>\n",
       "    <tr>\n",
       "      <th>2</th>\n",
       "      <td>1312198</td>\n",
       "      <td>Kolkata</td>\n",
       "      <td>2022-05-25</td>\n",
       "      <td>2022</td>\n",
       "      <td>Eliminator</td>\n",
       "      <td>Royal Challengers Bangalore</td>\n",
       "      <td>Lucknow Super Giants</td>\n",
       "      <td>Eden Gardens, Kolkata</td>\n",
       "      <td>Lucknow Super Giants</td>\n",
       "      <td>field</td>\n",
       "      <td>N</td>\n",
       "      <td>Royal Challengers Bangalore</td>\n",
       "      <td>Runs</td>\n",
       "      <td>14</td>\n",
       "      <td>NaN</td>\n",
       "      <td>RM Patidar</td>\n",
       "      <td>['V Kohli', 'F du Plessis', 'RM Patidar', 'GJ ...</td>\n",
       "      <td>['Q de Kock', 'KL Rahul', 'M Vohra', 'DJ Hooda...</td>\n",
       "      <td>J Madanagopal</td>\n",
       "      <td>MA Gough</td>\n",
       "    </tr>\n",
       "    <tr>\n",
       "      <th>3</th>\n",
       "      <td>1312197</td>\n",
       "      <td>Kolkata</td>\n",
       "      <td>2022-05-24</td>\n",
       "      <td>2022</td>\n",
       "      <td>Qualifier 1</td>\n",
       "      <td>Rajasthan Royals</td>\n",
       "      <td>Gujarat Titans</td>\n",
       "      <td>Eden Gardens, Kolkata</td>\n",
       "      <td>Gujarat Titans</td>\n",
       "      <td>field</td>\n",
       "      <td>N</td>\n",
       "      <td>Gujarat Titans</td>\n",
       "      <td>Wickets</td>\n",
       "      <td>7</td>\n",
       "      <td>NaN</td>\n",
       "      <td>DA Miller</td>\n",
       "      <td>['YBK Jaiswal', 'JC Buttler', 'SV Samson', 'D ...</td>\n",
       "      <td>['WP Saha', 'Shubman Gill', 'MS Wade', 'HH Pan...</td>\n",
       "      <td>BNJ Oxenford</td>\n",
       "      <td>VK Sharma</td>\n",
       "    </tr>\n",
       "    <tr>\n",
       "      <th>4</th>\n",
       "      <td>1304116</td>\n",
       "      <td>Mumbai</td>\n",
       "      <td>2022-05-22</td>\n",
       "      <td>2022</td>\n",
       "      <td>70</td>\n",
       "      <td>Sunrisers Hyderabad</td>\n",
       "      <td>Punjab Kings</td>\n",
       "      <td>Wankhede Stadium, Mumbai</td>\n",
       "      <td>Sunrisers Hyderabad</td>\n",
       "      <td>bat</td>\n",
       "      <td>N</td>\n",
       "      <td>Punjab Kings</td>\n",
       "      <td>Wickets</td>\n",
       "      <td>5</td>\n",
       "      <td>NaN</td>\n",
       "      <td>Harpreet Brar</td>\n",
       "      <td>['PK Garg', 'Abhishek Sharma', 'RA Tripathi', ...</td>\n",
       "      <td>['JM Bairstow', 'S Dhawan', 'M Shahrukh Khan',...</td>\n",
       "      <td>AK Chaudhary</td>\n",
       "      <td>NA Patwardhan</td>\n",
       "    </tr>\n",
       "  </tbody>\n",
       "</table>\n",
       "</div>"
      ],
      "text/plain": [
       "        ID       City        Date  Season  MatchNumber  \\\n",
       "0  1312200  Ahmedabad  2022-05-29    2022        Final   \n",
       "1  1312199  Ahmedabad  2022-05-27    2022  Qualifier 2   \n",
       "2  1312198    Kolkata  2022-05-25    2022   Eliminator   \n",
       "3  1312197    Kolkata  2022-05-24    2022  Qualifier 1   \n",
       "4  1304116     Mumbai  2022-05-22    2022           70   \n",
       "\n",
       "                         Team1                 Team2  \\\n",
       "0             Rajasthan Royals        Gujarat Titans   \n",
       "1  Royal Challengers Bangalore      Rajasthan Royals   \n",
       "2  Royal Challengers Bangalore  Lucknow Super Giants   \n",
       "3             Rajasthan Royals        Gujarat Titans   \n",
       "4          Sunrisers Hyderabad          Punjab Kings   \n",
       "\n",
       "                              Venue            TossWinner TossDecision  \\\n",
       "0  Narendra Modi Stadium, Ahmedabad      Rajasthan Royals          bat   \n",
       "1  Narendra Modi Stadium, Ahmedabad      Rajasthan Royals        field   \n",
       "2             Eden Gardens, Kolkata  Lucknow Super Giants        field   \n",
       "3             Eden Gardens, Kolkata        Gujarat Titans        field   \n",
       "4          Wankhede Stadium, Mumbai   Sunrisers Hyderabad          bat   \n",
       "\n",
       "  SuperOver                  WinningTeam    WonBy  Margin  method  \\\n",
       "0         N               Gujarat Titans  Wickets       7     NaN   \n",
       "1         N             Rajasthan Royals  Wickets       7     NaN   \n",
       "2         N  Royal Challengers Bangalore     Runs      14     NaN   \n",
       "3         N               Gujarat Titans  Wickets       7     NaN   \n",
       "4         N                 Punjab Kings  Wickets       5     NaN   \n",
       "\n",
       "  Player_of_Match                                       Team1Players  \\\n",
       "0       HH Pandya  ['YBK Jaiswal', 'JC Buttler', 'SV Samson', 'D ...   \n",
       "1      JC Buttler  ['V Kohli', 'F du Plessis', 'RM Patidar', 'GJ ...   \n",
       "2      RM Patidar  ['V Kohli', 'F du Plessis', 'RM Patidar', 'GJ ...   \n",
       "3       DA Miller  ['YBK Jaiswal', 'JC Buttler', 'SV Samson', 'D ...   \n",
       "4   Harpreet Brar  ['PK Garg', 'Abhishek Sharma', 'RA Tripathi', ...   \n",
       "\n",
       "                                        Team2Players        Umpire1  \\\n",
       "0  ['WP Saha', 'Shubman Gill', 'MS Wade', 'HH Pan...    CB Gaffaney   \n",
       "1  ['YBK Jaiswal', 'JC Buttler', 'SV Samson', 'D ...    CB Gaffaney   \n",
       "2  ['Q de Kock', 'KL Rahul', 'M Vohra', 'DJ Hooda...  J Madanagopal   \n",
       "3  ['WP Saha', 'Shubman Gill', 'MS Wade', 'HH Pan...   BNJ Oxenford   \n",
       "4  ['JM Bairstow', 'S Dhawan', 'M Shahrukh Khan',...   AK Chaudhary   \n",
       "\n",
       "         Umpire2  \n",
       "0    Nitin Menon  \n",
       "1    Nitin Menon  \n",
       "2       MA Gough  \n",
       "3      VK Sharma  \n",
       "4  NA Patwardhan  "
      ]
     },
     "execution_count": 21,
     "metadata": {},
     "output_type": "execute_result"
    }
   ],
   "source": [
    "TeamWon.head()"
   ]
  },
  {
   "cell_type": "code",
   "execution_count": 23,
   "id": "27bcf1f4-4d3b-4c1c-ba81-628124c15fc3",
   "metadata": {},
   "outputs": [
    {
     "data": {
      "image/png": "[encoded data removed]",
      "text/plain": [
       "<Figure size 500x500 with 1 Axes>"
      ]
     },
     "metadata": {},
     "output_type": "display_data"
    }
   ],
   "source": [
    "plt.figure(figsize=(5,5))\n",
    "plt.hist(TeamWon['Margin'])\n",
    "plt.title(\"Margin of runs\")\n",
    "plt.xlabel(\"Margin\")\n",
    "plt.show()"
   ]
  },
  {
   "cell_type": "code",
   "execution_count": 25,
   "id": "1e037f65-9f29-4128-a127-b07872845963",
   "metadata": {},
   "outputs": [
    {
     "data": {
      "text/plain": [
       "WinningTeam\n",
       "Gujarat Titans                 12\n",
       "Rajasthan Royals               10\n",
       "Royal Challengers Bangalore     9\n",
       "Lucknow Super Giants            9\n",
       "Punjab Kings                    7\n",
       "Delhi Capitals                  7\n",
       "Sunrisers Hyderabad             6\n",
       "Kolkata Knight Riders           6\n",
       "Mumbai Indians                  4\n",
       "Chennai Super Kings             4\n",
       "Name: count, dtype: int64"
      ]
     },
     "execution_count": 25,
     "metadata": {},
     "output_type": "execute_result"
    }
   ],
   "source": [
    "TeamWon[\"WinningTeam\"].value_counts()"
   ]
  },
  {
   "cell_type": "code",
   "execution_count": 27,
   "id": "8166c7f4-a141-44dc-8059-43b885517d73",
   "metadata": {},
   "outputs": [
    {
     "data": {
      "image/png": "[encoded data removed]",
      "text/plain": [
       "<Figure size 700x500 with 1 Axes>"
      ]
     },
     "metadata": {},
     "output_type": "display_data"
    }
   ],
   "source": [
    "plt.figure(figsize=(7,5))\n",
    "plt.bar(list(TeamWon[\"WinningTeam\"].value_counts()[0:3].keys()),list(TeamWon[\"WinningTeam\"].value_counts()[0:3]),color=[\"blue\",\"yellow\",\"orange\"])\n",
    "plt.show()                                                                        "
   ]
  },
  {
   "cell_type": "code",
   "execution_count": 29,
   "id": "a57d29c6-5b0e-43eb-8e10-3acf27bda09c",
   "metadata": {},
   "outputs": [
    {
     "data": {
      "text/plain": [
       "([<matplotlib.patches.Wedge at 0x13f669400>,\n",
       "  <matplotlib.patches.Wedge at 0x13f6575b0>,\n",
       "  <matplotlib.patches.Wedge at 0x13f680040>,\n",
       "  <matplotlib.patches.Wedge at 0x13f6806d0>,\n",
       "  <matplotlib.patches.Wedge at 0x13f680d30>,\n",
       "  <matplotlib.patches.Wedge at 0x13f68c400>,\n",
       "  <matplotlib.patches.Wedge at 0x13f68ca90>,\n",
       "  <matplotlib.patches.Wedge at 0x13f69b160>,\n",
       "  <matplotlib.patches.Wedge at 0x13f4cc130>,\n",
       "  <matplotlib.patches.Wedge at 0x13f4a45b0>],\n",
       " [Text(0.9603155366947886, 0.5364644163246991, 'Gujarat Titans'),\n",
       "  Text(0.13971967212586947, 1.0910904697691388, 'Rajasthan Royals'),\n",
       "  Text(-0.6910419309725406, 0.8558393830840824, 'Royal Challengers Bangalore'),\n",
       "  Text(-1.0910904697691388, 0.13971967212586955, 'Lucknow Super Giants'),\n",
       "  Text(-0.9366820792354006, -0.5767379668785876, 'Punjab Kings'),\n",
       "  Text(-0.453091400968823, -1.002351326815159, 'Delhi Capitals'),\n",
       "  Text(0.1397195699706063, -1.0910904828506338, 'Sunrisers Hyderabad'),\n",
       "  Text(0.6540964480572605, -0.8843968773344214, 'Kolkata Knight Riders'),\n",
       "  Text(0.9603154927457898, -0.5364644949970233, 'Mumbai Indians'),\n",
       "  Text(1.0841774919154068, -0.18590095756616873, 'Chennai Super Kings')],\n",
       " [Text(0.5238084745607937, 0.29261695435892676, '16.2%'),\n",
       "  Text(0.07621073025047426, 0.5951402562377119, '13.5%'),\n",
       "  Text(-0.3769319623486585, 0.4668214816822267, '12.2%'),\n",
       "  Text(-0.5951402562377119, 0.07621073025047428, '12.2%'),\n",
       "  Text(-0.5109174977647639, -0.31458434557013865, '9.5%'),\n",
       "  Text(-0.2471407641648125, -0.546737087353723, '9.5%'),\n",
       "  Text(0.07621067452942161, -0.5951402633730729, '8.1%'),\n",
       "  Text(0.3567798807585057, -0.48239829672786616, '8.1%'),\n",
       "  Text(0.5238084505886125, -0.2926169972711036, '5.4%'),\n",
       "  Text(0.5913695410447672, -0.1014005223088193, '5.4%')])"
      ]
     },
     "execution_count": 29,
     "metadata": {},
     "output_type": "execute_result"
    },
    {
     "data": {
      "image/png": "[encoded data removed]",
      "text/plain": [
       "<Figure size 500x500 with 1 Axes>"
      ]
     },
     "metadata": {},
     "output_type": "display_data"
    }
   ],
   "source": [
    "plt.figure(figsize=(5,5))\n",
    "plt.pie(list(TeamWon[\"WinningTeam\"].value_counts()),labels=list(TeamWon[\"WinningTeam\"].value_counts().keys()),autopct=\"%0.1f%%\")"
   ]
  },
  {
   "cell_type": "code",
   "execution_count": 31,
   "id": "29209c3a-c0a3-45b8-a64f-5326b45156ca",
   "metadata": {},
   "outputs": [
    {
     "data": {
      "text/plain": [
       "City\n",
       "Mumbai         48\n",
       "Pune           13\n",
       "Navi Mumbai     9\n",
       "Ahmedabad       2\n",
       "Kolkata         2\n",
       "Name: count, dtype: int64"
      ]
     },
     "execution_count": 31,
     "metadata": {},
     "output_type": "execute_result"
    }
   ],
   "source": [
    "ipl['City'].value_counts()"
   ]
  },
  {
   "cell_type": "code",
   "execution_count": 33,
   "id": "40d200cd-9bf0-4513-b5d0-bcf28cdfdfc0",
   "metadata": {},
   "outputs": [
    {
     "data": {
      "text/plain": [
       "Season\n",
       "2022    74\n",
       "Name: count, dtype: int64"
      ]
     },
     "execution_count": 33,
     "metadata": {},
     "output_type": "execute_result"
    }
   ],
   "source": [
    "ipl['Season'].value_counts()"
   ]
  },
  {
   "cell_type": "code",
   "execution_count": 35,
   "id": "ad778e81-0654-4156-9c76-b243c9716207",
   "metadata": {},
   "outputs": [
    {
     "data": {
      "text/plain": [
       "Venue\n",
       "Wankhede Stadium, Mumbai                         21\n",
       "Dr DY Patil Sports Academy, Mumbai               20\n",
       "Brabourne Stadium, Mumbai                        16\n",
       "Maharashtra Cricket Association Stadium, Pune    13\n",
       "Narendra Modi Stadium, Ahmedabad                  2\n",
       "Eden Gardens, Kolkata                             2\n",
       "Name: count, dtype: int64"
      ]
     },
     "execution_count": 35,
     "metadata": {},
     "output_type": "execute_result"
    }
   ],
   "source": [
    "ipl['Venue'].value_counts()"
   ]
  },
  {
   "cell_type": "code",
   "execution_count": 37,
   "id": "716ff509-c677-4174-9136-4ebeb8e92fc5",
   "metadata": {},
   "outputs": [
    {
     "data": {
      "text/plain": [
       "Player_of_Match\n",
       "Kuldeep Yadav       4\n",
       "JC Buttler          3\n",
       "HH Pandya           2\n",
       "KL Rahul            2\n",
       "YS Chahal           2\n",
       "KD Karthik          2\n",
       "Avesh Khan          2\n",
       "PWH de Silva        2\n",
       "Shubman Gill        2\n",
       "Umran Malik         2\n",
       "JJ Bumrah           2\n",
       "DA Miller           2\n",
       "RA Tripathi         2\n",
       "Q de Kock           2\n",
       "UT Yadav            2\n",
       "F du Plessis        1\n",
       "R Parag             1\n",
       "S Dhawan            1\n",
       "Mohammed Shami      1\n",
       "M Jansen            1\n",
       "Rashid Khan         1\n",
       "Mukesh Choudhary    1\n",
       "LH Ferguson         1\n",
       "SV Samson           1\n",
       "LS Livingstone      1\n",
       "E Lewis             1\n",
       "MA Agarwal          1\n",
       "KS Williamson       1\n",
       "Anuj Rawat          1\n",
       "Abhishek Sharma     1\n",
       "PJ Cummins          1\n",
       "S Dube              1\n",
       "Mohsin Khan         1\n",
       "KH Pandya           1\n",
       "DR Sams             1\n",
       "RM Patidar          1\n",
       "Harpreet Brar       1\n",
       "R Ashwin            1\n",
       "V Kohli             1\n",
       "SN Thakur           1\n",
       "TA Boult            1\n",
       "WP Saha             1\n",
       "AD Russell          1\n",
       "JM Bairstow         1\n",
       "MR Marsh            1\n",
       "R Tewatia           1\n",
       "DP Conway           1\n",
       "YBK Jaiswal         1\n",
       "TH David            1\n",
       "DA Warner           1\n",
       "HV Patel            1\n",
       "K Rabada            1\n",
       "RK Singh            1\n",
       "RD Gaikwad          1\n",
       "SA Yadav            1\n",
       "OF Smith            1\n",
       "Name: count, dtype: int64"
      ]
     },
     "execution_count": 37,
     "metadata": {},
     "output_type": "execute_result"
    }
   ],
   "source": [
    "ipl['Player_of_Match'].value_counts()"
   ]
  },
  {
   "cell_type": "code",
   "execution_count": 39,
   "id": "db81f8ec-46bb-4508-be31-7096f9b72e93",
   "metadata": {},
   "outputs": [
    {
     "data": {
      "text/plain": [
       "MatchNumber\n",
       "Final    1\n",
       "20       1\n",
       "21       1\n",
       "22       1\n",
       "23       1\n",
       "        ..\n",
       "50       1\n",
       "51       1\n",
       "52       1\n",
       "53       1\n",
       "1        1\n",
       "Name: count, Length: 74, dtype: int64"
      ]
     },
     "execution_count": 39,
     "metadata": {},
     "output_type": "execute_result"
    }
   ],
   "source": [
    "ipl['MatchNumber'].value_counts()"
   ]
  },
  {
   "cell_type": "code",
   "execution_count": 41,
   "id": "231025c5-87d5-4f8a-9f85-56a8311b261c",
   "metadata": {},
   "outputs": [
    {
     "data": {
      "text/plain": [
       "Umpire1\n",
       "AK Chaudhary             11\n",
       "CB Gaffaney               9\n",
       "BNJ Oxenford              9\n",
       "J Madanagopal             6\n",
       "KN Ananthapadmanabhan     6\n",
       "Chirra Ravikanthreddy     6\n",
       "Nitin Menon               5\n",
       "RJ Tucker                 5\n",
       "R Pandit                  3\n",
       "GR Sadashiv Iyer          3\n",
       "PG Pathak                 3\n",
       "NA Patwardhan             2\n",
       "Navdeep Singh             2\n",
       "M Erasmus                 2\n",
       "HAS Khalid                1\n",
       "MA Gough                  1\n",
       "Name: count, dtype: int64"
      ]
     },
     "execution_count": 41,
     "metadata": {},
     "output_type": "execute_result"
    }
   ],
   "source": [
    "ipl['Umpire1'].value_counts()"
   ]
  },
  {
   "cell_type": "code",
   "execution_count": 43,
   "id": "3f0625ba-2be4-4a94-82d8-2d83d1f84c00",
   "metadata": {},
   "outputs": [
    {
     "data": {
      "text/plain": [
       "Umpire2\n",
       "VK Sharma                9\n",
       "Nitin Menon              7\n",
       "UV Gandhe                7\n",
       "Tapan Sharma             6\n",
       "N Pandit                 6\n",
       "YC Barde                 5\n",
       "KN Ananthapadmanabhan    5\n",
       "MA Gough                 4\n",
       "NA Patwardhan            4\n",
       "HAS Khalid               4\n",
       "GR Sadashiv Iyer         3\n",
       "R Pandit                 3\n",
       "Navdeep Singh            3\n",
       "J Madanagopal            3\n",
       "CB Gaffaney              2\n",
       "PG Pathak                2\n",
       "RJ Tucker                1\n",
       "Name: count, dtype: int64"
      ]
     },
     "execution_count": 43,
     "metadata": {},
     "output_type": "execute_result"
    }
   ],
   "source": [
    "ipl['Umpire2'].value_counts()"
   ]
  },
  {
   "cell_type": "code",
   "execution_count": 45,
   "id": "70783349-86a2-4c64-ac8d-7c650a3a1551",
   "metadata": {},
   "outputs": [
    {
     "data": {
      "text/plain": [
       "Team1Players\n",
       "['JC Buttler', 'D Padikkal', 'SV Samson', 'SO Hetmyer', 'R Parag', 'KK Nair', 'R Ashwin', 'TA Boult', 'OC McCoy', 'M Prasidh Krishna', 'YS Chahal']                        2\n",
       "['JC Buttler', 'YBK Jaiswal', 'D Padikkal', 'SV Samson', 'SO Hetmyer', 'R Parag', 'R Ashwin', 'Navdeep Saini', 'TA Boult', 'YS Chahal', 'M Prasidh Krishna']               2\n",
       "['YBK Jaiswal', 'JC Buttler', 'SV Samson', 'D Padikkal', 'SO Hetmyer', 'R Ashwin', 'R Parag', 'TA Boult', 'OC McCoy', 'M Prasidh Krishna', 'YS Chahal']                    1\n",
       "['F du Plessis', 'Anuj Rawat', 'V Kohli', 'GJ Maxwell', 'SS Prabhudessai', 'Shahbaz Ahmed', 'KD Karthik', 'PWH de Silva', 'Mohammed Siraj', 'HV Patel', 'JR Hazlewood']    1\n",
       "['RD Gaikwad', 'RV Uthappa', 'MM Ali', 'S Dube', 'RA Jadeja', 'MS Dhoni', 'AT Rayudu', 'DJ Bravo', 'CJ Jordan', 'M Theekshana', 'Mukesh Choudhary']                        1\n",
       "                                                                                                                                                                          ..\n",
       "['Ishan Kishan', 'RG Sharma', 'SA Yadav', 'Tilak Varma', 'KA Pollard', 'TH David', 'DR Sams', 'M Ashwin', 'K Kartikeya', 'JJ Bumrah', 'RP Meredith']                       1\n",
       "['JM Bairstow', 'S Dhawan', 'PBB Rajapaksa', 'MA Agarwal', 'JM Sharma', 'LS Livingstone', 'R Dhawan', 'K Rabada', 'RD Chahar', 'Arshdeep Singh', 'Sandeep Sharma']         1\n",
       "['Q de Kock', 'KL Rahul', 'DJ Hooda', 'KH Pandya', 'A Badoni', 'MP Stoinis', 'JO Holder', 'PVD Chameera', 'Avesh Khan', 'Mohsin Khan', 'Ravi Bishnoi']                     1\n",
       "['V Kohli', 'F du Plessis', 'RM Patidar', 'GJ Maxwell', 'KD Karthik', 'MK Lomror', 'Shahbaz Ahmed', 'PWH de Silva', 'HV Patel', 'JR Hazlewood', 'Mohammed Siraj']          1\n",
       "['RD Gaikwad', 'DP Conway', 'RV Uthappa', 'AT Rayudu', 'RA Jadeja', 'S Dube', 'MS Dhoni', 'DJ Bravo', 'MJ Santner', 'AF Milne', 'TU Deshpande']                            1\n",
       "Name: count, Length: 72, dtype: int64"
      ]
     },
     "execution_count": 45,
     "metadata": {},
     "output_type": "execute_result"
    }
   ],
   "source": [
    "ipl['Team1Players'].value_counts()"
   ]
  },
  {
   "cell_type": "code",
   "execution_count": 47,
   "id": "fca5a27d-486b-4b09-97fd-14da33936710",
   "metadata": {},
   "outputs": [
    {
     "data": {
      "text/plain": [
       "Team2Players\n",
       "['Abhishek Sharma', 'KS Williamson', 'RA Tripathi', 'AK Markram', 'N Pooran', 'Shashank Singh', 'J Suchith', 'B Kumar', 'M Jansen', 'T Natarajan', 'Umran Malik']    2\n",
       "['WP Saha', 'Shubman Gill', 'MS Wade', 'HH Pandya', 'DA Miller', 'R Tewatia', 'Rashid Khan', 'R Sai Kishore', 'AS Joseph', 'Yash Dayal', 'Mohammed Shami']           2\n",
       "['Ishan Kishan', 'RG Sharma', 'D Brevis', 'SA Yadav', 'Tilak Varma', 'KA Pollard', 'FA Allen', 'JD Unadkat', 'M Ashwin', 'JJ Bumrah', 'TS Mills']                    1\n",
       "['KL Rahul', 'Q de Kock', 'K Gowtham', 'JO Holder', 'DJ Hooda', 'A Badoni', 'KH Pandya', 'MP Stoinis', 'PVD Chameera', 'Avesh Khan', 'Ravi Bishnoi']                 1\n",
       "['AM Rahane', 'VR Iyer', 'SS Iyer', 'N Rana', 'AD Russell', 'SW Billings', 'PJ Cummins', 'SP Narine', 'UT Yadav', 'Rasikh Salam', 'CV Varun']                        1\n",
       "                                                                                                                                                                    ..\n",
       "['RD Gaikwad', 'DP Conway', 'RV Uthappa', 'AT Rayudu', 'MM Ali', 'RA Jadeja', 'MS Dhoni', 'D Pretorius', 'Simarjeet Singh', 'M Theekshana', 'Mukesh Choudhary']      1\n",
       "['Abhishek Sharma', 'KS Williamson', 'RA Tripathi', 'AK Markram', 'N Pooran', 'Shashank Singh', 'SA Abbott', 'S Gopal', 'Kartik Tyagi', 'B Kumar', 'Umran Malik']    1\n",
       "['WP Saha', 'Shubman Gill', 'HH Pandya', 'B Sai Sudharsan', 'DA Miller', 'R Tewatia', 'Rashid Khan', 'PJ Sangwan', 'LH Ferguson', 'AS Joseph', 'Mohammed Shami']     1\n",
       "['YBK Jaiswal', 'JC Buttler', 'SV Samson', 'D Padikkal', 'SO Hetmyer', 'R Parag', 'R Ashwin', 'TA Boult', 'M Prasidh Krishna', 'YS Chahal', 'KR Sen']                1\n",
       "['AM Rahane', 'VR Iyer', 'N Rana', 'SS Iyer', 'SW Billings', 'SP Jackson', 'AD Russell', 'SP Narine', 'UT Yadav', 'Shivam Mavi', 'CV Varun']                         1\n",
       "Name: count, Length: 72, dtype: int64"
      ]
     },
     "execution_count": 47,
     "metadata": {},
     "output_type": "execute_result"
    }
   ],
   "source": [
    "ipl['Team2Players'].value_counts()"
   ]
  },
  {
   "cell_type": "code",
   "execution_count": 49,
   "id": "57906bfe-4fbe-43eb-aac6-af33a83099eb",
   "metadata": {},
   "outputs": [
    {
     "data": {
      "text/plain": [
       "36"
      ]
     },
     "execution_count": 49,
     "metadata": {},
     "output_type": "execute_result"
    }
   ],
   "source": [
    "import numpy as np\n",
    "np.sum(ipl['TossWinner']==ipl['WinningTeam'])"
   ]
  },
  {
   "cell_type": "code",
   "execution_count": 51,
   "id": "aff64cd0-146e-4293-9020-6251b371d02a",
   "metadata": {},
   "outputs": [],
   "source": [
    "deliveries=pd.read_csv('Downloads/archive/IPL_Ball_by_Ball_2022.csv')"
   ]
  },
  {
   "cell_type": "code",
   "execution_count": 53,
   "id": "cd4d3c5a-4039-4a11-bf9c-82c8128fbe92",
   "metadata": {},
   "outputs": [
    {
     "data": {
      "text/html": [
       "<div>\n",
       "<style scoped>\n",
       "    .dataframe tbody tr th:only-of-type {\n",
       "        vertical-align: middle;\n",
       "    }\n",
       "\n",
       "    .dataframe tbody tr th {\n",
       "        vertical-align: top;\n",
       "    }\n",
       "\n",
       "    .dataframe thead th {\n",
       "        text-align: right;\n",
       "    }\n",
       "</style>\n",
       "<table border=\"1\" class=\"dataframe\">\n",
       "  <thead>\n",
       "    <tr style=\"text-align: right;\">\n",
       "      <th></th>\n",
       "      <th>ID</th>\n",
       "      <th>innings</th>\n",
       "      <th>overs</th>\n",
       "      <th>ballnumber</th>\n",
       "      <th>batter</th>\n",
       "      <th>bowler</th>\n",
       "      <th>non-striker</th>\n",
       "      <th>extra_type</th>\n",
       "      <th>batsman_run</th>\n",
       "      <th>extras_run</th>\n",
       "      <th>total_run</th>\n",
       "      <th>non_boundary</th>\n",
       "      <th>isWicketDelivery</th>\n",
       "      <th>player_out</th>\n",
       "      <th>kind</th>\n",
       "      <th>fielders_involved</th>\n",
       "      <th>BattingTeam</th>\n",
       "    </tr>\n",
       "  </thead>\n",
       "  <tbody>\n",
       "    <tr>\n",
       "      <th>0</th>\n",
       "      <td>1312200</td>\n",
       "      <td>1</td>\n",
       "      <td>0</td>\n",
       "      <td>1</td>\n",
       "      <td>YBK Jaiswal</td>\n",
       "      <td>Mohammed Shami</td>\n",
       "      <td>JC Buttler</td>\n",
       "      <td>NaN</td>\n",
       "      <td>0</td>\n",
       "      <td>0</td>\n",
       "      <td>0</td>\n",
       "      <td>0</td>\n",
       "      <td>0</td>\n",
       "      <td>NaN</td>\n",
       "      <td>NaN</td>\n",
       "      <td>NaN</td>\n",
       "      <td>Rajasthan Royals</td>\n",
       "    </tr>\n",
       "    <tr>\n",
       "      <th>1</th>\n",
       "      <td>1312200</td>\n",
       "      <td>1</td>\n",
       "      <td>0</td>\n",
       "      <td>2</td>\n",
       "      <td>YBK Jaiswal</td>\n",
       "      <td>Mohammed Shami</td>\n",
       "      <td>JC Buttler</td>\n",
       "      <td>legbyes</td>\n",
       "      <td>0</td>\n",
       "      <td>1</td>\n",
       "      <td>1</td>\n",
       "      <td>0</td>\n",
       "      <td>0</td>\n",
       "      <td>NaN</td>\n",
       "      <td>NaN</td>\n",
       "      <td>NaN</td>\n",
       "      <td>Rajasthan Royals</td>\n",
       "    </tr>\n",
       "    <tr>\n",
       "      <th>2</th>\n",
       "      <td>1312200</td>\n",
       "      <td>1</td>\n",
       "      <td>0</td>\n",
       "      <td>3</td>\n",
       "      <td>JC Buttler</td>\n",
       "      <td>Mohammed Shami</td>\n",
       "      <td>YBK Jaiswal</td>\n",
       "      <td>NaN</td>\n",
       "      <td>1</td>\n",
       "      <td>0</td>\n",
       "      <td>1</td>\n",
       "      <td>0</td>\n",
       "      <td>0</td>\n",
       "      <td>NaN</td>\n",
       "      <td>NaN</td>\n",
       "      <td>NaN</td>\n",
       "      <td>Rajasthan Royals</td>\n",
       "    </tr>\n",
       "    <tr>\n",
       "      <th>3</th>\n",
       "      <td>1312200</td>\n",
       "      <td>1</td>\n",
       "      <td>0</td>\n",
       "      <td>4</td>\n",
       "      <td>YBK Jaiswal</td>\n",
       "      <td>Mohammed Shami</td>\n",
       "      <td>JC Buttler</td>\n",
       "      <td>NaN</td>\n",
       "      <td>0</td>\n",
       "      <td>0</td>\n",
       "      <td>0</td>\n",
       "      <td>0</td>\n",
       "      <td>0</td>\n",
       "      <td>NaN</td>\n",
       "      <td>NaN</td>\n",
       "      <td>NaN</td>\n",
       "      <td>Rajasthan Royals</td>\n",
       "    </tr>\n",
       "    <tr>\n",
       "      <th>4</th>\n",
       "      <td>1312200</td>\n",
       "      <td>1</td>\n",
       "      <td>0</td>\n",
       "      <td>5</td>\n",
       "      <td>YBK Jaiswal</td>\n",
       "      <td>Mohammed Shami</td>\n",
       "      <td>JC Buttler</td>\n",
       "      <td>NaN</td>\n",
       "      <td>0</td>\n",
       "      <td>0</td>\n",
       "      <td>0</td>\n",
       "      <td>0</td>\n",
       "      <td>0</td>\n",
       "      <td>NaN</td>\n",
       "      <td>NaN</td>\n",
       "      <td>NaN</td>\n",
       "      <td>Rajasthan Royals</td>\n",
       "    </tr>\n",
       "  </tbody>\n",
       "</table>\n",
       "</div>"
      ],
      "text/plain": [
       "        ID  innings  overs  ballnumber       batter          bowler  \\\n",
       "0  1312200        1      0           1  YBK Jaiswal  Mohammed Shami   \n",
       "1  1312200        1      0           2  YBK Jaiswal  Mohammed Shami   \n",
       "2  1312200        1      0           3   JC Buttler  Mohammed Shami   \n",
       "3  1312200        1      0           4  YBK Jaiswal  Mohammed Shami   \n",
       "4  1312200        1      0           5  YBK Jaiswal  Mohammed Shami   \n",
       "\n",
       "   non-striker extra_type  batsman_run  extras_run  total_run  non_boundary  \\\n",
       "0   JC Buttler        NaN            0           0          0             0   \n",
       "1   JC Buttler    legbyes            0           1          1             0   \n",
       "2  YBK Jaiswal        NaN            1           0          1             0   \n",
       "3   JC Buttler        NaN            0           0          0             0   \n",
       "4   JC Buttler        NaN            0           0          0             0   \n",
       "\n",
       "   isWicketDelivery player_out kind fielders_involved       BattingTeam  \n",
       "0                 0        NaN  NaN               NaN  Rajasthan Royals  \n",
       "1                 0        NaN  NaN               NaN  Rajasthan Royals  \n",
       "2                 0        NaN  NaN               NaN  Rajasthan Royals  \n",
       "3                 0        NaN  NaN               NaN  Rajasthan Royals  \n",
       "4                 0        NaN  NaN               NaN  Rajasthan Royals  "
      ]
     },
     "execution_count": 53,
     "metadata": {},
     "output_type": "execute_result"
    }
   ],
   "source": [
    "deliveries.head()"
   ]
  },
  {
   "cell_type": "code",
   "execution_count": 55,
   "id": "c8305d3c-72c5-478b-ba77-b3336b922048",
   "metadata": {},
   "outputs": [
    {
     "data": {
      "text/plain": [
       "(17912, 17)"
      ]
     },
     "execution_count": 55,
     "metadata": {},
     "output_type": "execute_result"
    }
   ],
   "source": [
    "deliveries.shape"
   ]
  },
  {
   "cell_type": "code",
   "execution_count": 104,
   "id": "0d4d0b58-6c6f-4240-8acd-76460e943aad",
   "metadata": {},
   "outputs": [
    {
     "data": {
      "text/plain": [
       "array([1312200, 1312199, 1312198, 1312197, 1304116, 1304115, 1304114,\n",
       "       1304113, 1304112, 1304111, 1304110, 1304109, 1304108, 1304107,\n",
       "       1304106, 1304105, 1304104, 1304103, 1304102, 1304101, 1304100,\n",
       "       1304099, 1304098, 1304097, 1304096, 1304095, 1304094, 1304093,\n",
       "       1304092, 1304091, 1304090, 1304089, 1304088, 1304087, 1304086,\n",
       "       1304085, 1304084, 1304083, 1304082, 1304081, 1304080, 1304079,\n",
       "       1304078, 1304077, 1304076, 1304075, 1304074, 1304073, 1304072,\n",
       "       1304071, 1304070, 1304069, 1304068, 1304067, 1304066, 1304065,\n",
       "       1304064, 1304063, 1304062, 1304061, 1304060, 1304059, 1304058,\n",
       "       1304057, 1304056, 1304055, 1304054, 1304053, 1304052, 1304051,\n",
       "       1304050, 1304049, 1304048, 1304047])"
      ]
     },
     "execution_count": 104,
     "metadata": {},
     "output_type": "execute_result"
    }
   ],
   "source": [
    "deliveries['ID'].unique()"
   ]
  },
  {
   "cell_type": "code",
   "execution_count": 106,
   "id": "a0cfc0ee-818c-4c47-8b84-bc3807127ec7",
   "metadata": {},
   "outputs": [],
   "source": [
    "FinalMatch=deliveries[deliveries['ID']==1312200]"
   ]
  },
  {
   "cell_type": "code",
   "execution_count": 108,
   "id": "a6ce558e-83d2-4197-bf64-f69246d35487",
   "metadata": {},
   "outputs": [
    {
     "data": {
      "text/html": [
       "<div>\n",
       "<style scoped>\n",
       "    .dataframe tbody tr th:only-of-type {\n",
       "        vertical-align: middle;\n",
       "    }\n",
       "\n",
       "    .dataframe tbody tr th {\n",
       "        vertical-align: top;\n",
       "    }\n",
       "\n",
       "    .dataframe thead th {\n",
       "        text-align: right;\n",
       "    }\n",
       "</style>\n",
       "<table border=\"1\" class=\"dataframe\">\n",
       "  <thead>\n",
       "    <tr style=\"text-align: right;\">\n",
       "      <th></th>\n",
       "      <th>ID</th>\n",
       "      <th>innings</th>\n",
       "      <th>overs</th>\n",
       "      <th>ballnumber</th>\n",
       "      <th>batter</th>\n",
       "      <th>bowler</th>\n",
       "      <th>non-striker</th>\n",
       "      <th>extra_type</th>\n",
       "      <th>batsman_run</th>\n",
       "      <th>extras_run</th>\n",
       "      <th>total_run</th>\n",
       "      <th>non_boundary</th>\n",
       "      <th>isWicketDelivery</th>\n",
       "      <th>player_out</th>\n",
       "      <th>kind</th>\n",
       "      <th>fielders_involved</th>\n",
       "      <th>BattingTeam</th>\n",
       "    </tr>\n",
       "  </thead>\n",
       "  <tbody>\n",
       "    <tr>\n",
       "      <th>0</th>\n",
       "      <td>1312200</td>\n",
       "      <td>1</td>\n",
       "      <td>0</td>\n",
       "      <td>1</td>\n",
       "      <td>YBK Jaiswal</td>\n",
       "      <td>Mohammed Shami</td>\n",
       "      <td>JC Buttler</td>\n",
       "      <td>NaN</td>\n",
       "      <td>0</td>\n",
       "      <td>0</td>\n",
       "      <td>0</td>\n",
       "      <td>0</td>\n",
       "      <td>0</td>\n",
       "      <td>NaN</td>\n",
       "      <td>NaN</td>\n",
       "      <td>NaN</td>\n",
       "      <td>Rajasthan Royals</td>\n",
       "    </tr>\n",
       "    <tr>\n",
       "      <th>1</th>\n",
       "      <td>1312200</td>\n",
       "      <td>1</td>\n",
       "      <td>0</td>\n",
       "      <td>2</td>\n",
       "      <td>YBK Jaiswal</td>\n",
       "      <td>Mohammed Shami</td>\n",
       "      <td>JC Buttler</td>\n",
       "      <td>legbyes</td>\n",
       "      <td>0</td>\n",
       "      <td>1</td>\n",
       "      <td>1</td>\n",
       "      <td>0</td>\n",
       "      <td>0</td>\n",
       "      <td>NaN</td>\n",
       "      <td>NaN</td>\n",
       "      <td>NaN</td>\n",
       "      <td>Rajasthan Royals</td>\n",
       "    </tr>\n",
       "    <tr>\n",
       "      <th>2</th>\n",
       "      <td>1312200</td>\n",
       "      <td>1</td>\n",
       "      <td>0</td>\n",
       "      <td>3</td>\n",
       "      <td>JC Buttler</td>\n",
       "      <td>Mohammed Shami</td>\n",
       "      <td>YBK Jaiswal</td>\n",
       "      <td>NaN</td>\n",
       "      <td>1</td>\n",
       "      <td>0</td>\n",
       "      <td>1</td>\n",
       "      <td>0</td>\n",
       "      <td>0</td>\n",
       "      <td>NaN</td>\n",
       "      <td>NaN</td>\n",
       "      <td>NaN</td>\n",
       "      <td>Rajasthan Royals</td>\n",
       "    </tr>\n",
       "    <tr>\n",
       "      <th>3</th>\n",
       "      <td>1312200</td>\n",
       "      <td>1</td>\n",
       "      <td>0</td>\n",
       "      <td>4</td>\n",
       "      <td>YBK Jaiswal</td>\n",
       "      <td>Mohammed Shami</td>\n",
       "      <td>JC Buttler</td>\n",
       "      <td>NaN</td>\n",
       "      <td>0</td>\n",
       "      <td>0</td>\n",
       "      <td>0</td>\n",
       "      <td>0</td>\n",
       "      <td>0</td>\n",
       "      <td>NaN</td>\n",
       "      <td>NaN</td>\n",
       "      <td>NaN</td>\n",
       "      <td>Rajasthan Royals</td>\n",
       "    </tr>\n",
       "    <tr>\n",
       "      <th>4</th>\n",
       "      <td>1312200</td>\n",
       "      <td>1</td>\n",
       "      <td>0</td>\n",
       "      <td>5</td>\n",
       "      <td>YBK Jaiswal</td>\n",
       "      <td>Mohammed Shami</td>\n",
       "      <td>JC Buttler</td>\n",
       "      <td>NaN</td>\n",
       "      <td>0</td>\n",
       "      <td>0</td>\n",
       "      <td>0</td>\n",
       "      <td>0</td>\n",
       "      <td>0</td>\n",
       "      <td>NaN</td>\n",
       "      <td>NaN</td>\n",
       "      <td>NaN</td>\n",
       "      <td>Rajasthan Royals</td>\n",
       "    </tr>\n",
       "  </tbody>\n",
       "</table>\n",
       "</div>"
      ],
      "text/plain": [
       "        ID  innings  overs  ballnumber       batter          bowler  \\\n",
       "0  1312200        1      0           1  YBK Jaiswal  Mohammed Shami   \n",
       "1  1312200        1      0           2  YBK Jaiswal  Mohammed Shami   \n",
       "2  1312200        1      0           3   JC Buttler  Mohammed Shami   \n",
       "3  1312200        1      0           4  YBK Jaiswal  Mohammed Shami   \n",
       "4  1312200        1      0           5  YBK Jaiswal  Mohammed Shami   \n",
       "\n",
       "   non-striker extra_type  batsman_run  extras_run  total_run  non_boundary  \\\n",
       "0   JC Buttler        NaN            0           0          0             0   \n",
       "1   JC Buttler    legbyes            0           1          1             0   \n",
       "2  YBK Jaiswal        NaN            1           0          1             0   \n",
       "3   JC Buttler        NaN            0           0          0             0   \n",
       "4   JC Buttler        NaN            0           0          0             0   \n",
       "\n",
       "   isWicketDelivery player_out kind fielders_involved       BattingTeam  \n",
       "0                 0        NaN  NaN               NaN  Rajasthan Royals  \n",
       "1                 0        NaN  NaN               NaN  Rajasthan Royals  \n",
       "2                 0        NaN  NaN               NaN  Rajasthan Royals  \n",
       "3                 0        NaN  NaN               NaN  Rajasthan Royals  \n",
       "4                 0        NaN  NaN               NaN  Rajasthan Royals  "
      ]
     },
     "execution_count": 108,
     "metadata": {},
     "output_type": "execute_result"
    }
   ],
   "source": [
    "FinalMatch.head()"
   ]
  },
  {
   "cell_type": "code",
   "execution_count": 110,
   "id": "74759337-a614-40d4-9223-df7c4ba97ee1",
   "metadata": {},
   "outputs": [],
   "source": [
    "RR=FinalMatch[FinalMatch['innings']==1]"
   ]
  },
  {
   "cell_type": "code",
   "execution_count": 112,
   "id": "637d5ed3-7e21-4cd3-aff3-e3a8587c7eba",
   "metadata": {},
   "outputs": [
    {
     "data": {
      "text/plain": [
       "batsman_run\n",
       "0    52\n",
       "1    47\n",
       "4    11\n",
       "2     5\n",
       "6     4\n",
       "3     1\n",
       "Name: count, dtype: int64"
      ]
     },
     "execution_count": 112,
     "metadata": {},
     "output_type": "execute_result"
    }
   ],
   "source": [
    "RR['batsman_run'].value_counts()"
   ]
  },
  {
   "cell_type": "code",
   "execution_count": 114,
   "id": "26d6a00a-13b1-4bcd-b9a4-d870d88c87d9",
   "metadata": {},
   "outputs": [
    {
     "data": {
      "text/plain": [
       "player_out\n",
       "YBK Jaiswal    1\n",
       "SV Samson      1\n",
       "D Padikkal     1\n",
       "JC Buttler     1\n",
       "SO Hetmyer     1\n",
       "R Ashwin       1\n",
       "TA Boult       1\n",
       "OC McCoy       1\n",
       "R Parag        1\n",
       "Name: count, dtype: int64"
      ]
     },
     "execution_count": 114,
     "metadata": {},
     "output_type": "execute_result"
    }
   ],
   "source": [
    "RR['player_out'].value_counts()"
   ]
  },
  {
   "cell_type": "code",
   "execution_count": 116,
   "id": "aa54313c-764d-48aa-b437-6e5a9dae3933",
   "metadata": {},
   "outputs": [
    {
     "data": {
      "text/plain": [
       "extra_type\n",
       "legbyes    2\n",
       "Name: count, dtype: int64"
      ]
     },
     "execution_count": 116,
     "metadata": {},
     "output_type": "execute_result"
    }
   ],
   "source": [
    "RR['extra_type'].value_counts()"
   ]
  },
  {
   "cell_type": "code",
   "execution_count": 118,
   "id": "dc1efcbc-1470-4b7c-a7ed-a910c423c218",
   "metadata": {},
   "outputs": [
    {
     "data": {
      "text/plain": [
       "extras_run\n",
       "0    118\n",
       "1      2\n",
       "Name: count, dtype: int64"
      ]
     },
     "execution_count": 118,
     "metadata": {},
     "output_type": "execute_result"
    }
   ],
   "source": [
    "RR['extras_run'].value_counts()"
   ]
  },
  {
   "cell_type": "code",
   "execution_count": 102,
   "id": "a4e8c8b2-a306-4227-bea9-65b29e9101ba",
   "metadata": {},
   "outputs": [
    {
     "data": {
      "text/plain": [
       "isWicketDelivery\n",
       "0    111\n",
       "1      9\n",
       "Name: count, dtype: int64"
      ]
     },
     "execution_count": 102,
     "metadata": {},
     "output_type": "execute_result"
    }
   ],
   "source": [
    "RR['isWicketDelivery'].value_counts()"
   ]
  },
  {
   "cell_type": "code",
   "execution_count": 124,
   "id": "979cc192-c792-4b75-b8e3-a4ce54a48493",
   "metadata": {},
   "outputs": [],
   "source": [
    "GT=FinalMatch[FinalMatch['innings']==2]"
   ]
  },
  {
   "cell_type": "code",
   "execution_count": 126,
   "id": "ef6ba11b-b6d0-44b5-8b46-133c170505cc",
   "metadata": {},
   "outputs": [
    {
     "data": {
      "text/plain": [
       "player_out\n",
       "WP Saha      1\n",
       "MS Wade      1\n",
       "HH Pandya    1\n",
       "Name: count, dtype: int64"
      ]
     },
     "execution_count": 126,
     "metadata": {},
     "output_type": "execute_result"
    }
   ],
   "source": [
    "GT['player_out'].value_counts()"
   ]
  },
  {
   "cell_type": "code",
   "execution_count": 128,
   "id": "a4d35106-7d9c-4ac0-b247-e7fda2056a4c",
   "metadata": {},
   "outputs": [
    {
     "data": {
      "text/plain": [
       "batsman_run\n",
       "0    51\n",
       "1    36\n",
       "2    12\n",
       "4    10\n",
       "6     4\n",
       "Name: count, dtype: int64"
      ]
     },
     "execution_count": 128,
     "metadata": {},
     "output_type": "execute_result"
    }
   ],
   "source": [
    "GT['batsman_run'].value_counts()"
   ]
  },
  {
   "cell_type": "code",
   "execution_count": 130,
   "id": "a06e6cd4-884a-4e6a-a596-5148282a40fa",
   "metadata": {},
   "outputs": [
    {
     "data": {
      "text/plain": [
       "isWicketDelivery\n",
       "0    110\n",
       "1      3\n",
       "Name: count, dtype: int64"
      ]
     },
     "execution_count": 130,
     "metadata": {},
     "output_type": "execute_result"
    }
   ],
   "source": [
    "GT['isWicketDelivery'].value_counts()"
   ]
  },
  {
   "cell_type": "code",
   "execution_count": 132,
   "id": "cbf897eb-4e10-4c15-bddf-cd223cf34015",
   "metadata": {},
   "outputs": [
    {
     "data": {
      "text/plain": [
       "extra_type\n",
       "wides      4\n",
       "legbyes    1\n",
       "Name: count, dtype: int64"
      ]
     },
     "execution_count": 132,
     "metadata": {},
     "output_type": "execute_result"
    }
   ],
   "source": [
    "GT['extra_type'].value_counts()"
   ]
  },
  {
   "cell_type": "code",
   "execution_count": 134,
   "id": "a8abff54-db6b-4b39-ba5a-ece717cc36b0",
   "metadata": {},
   "outputs": [
    {
     "data": {
      "text/plain": [
       "extras_run\n",
       "0    108\n",
       "1      4\n",
       "5      1\n",
       "Name: count, dtype: int64"
      ]
     },
     "execution_count": 134,
     "metadata": {},
     "output_type": "execute_result"
    }
   ],
   "source": [
    "GT['extras_run'].value_counts()"
   ]
  }
 ],
 "metadata": {
  "kernelspec": {
   "display_name": "Python [conda env:env]",
   "language": "python",
   "name": "conda-env-env-py"
  },
  "language_info": {
   "codemirror_mode": {
    "name": "ipython",
    "version": 3
   },
   "file_extension": ".py",
   "mimetype": "text/x-python",
   "name": "python",
   "nbconvert_exporter": "python",
   "pygments_lexer": "ipython3",
   "version": "3.8.20"
  }
 },
 "nbformat": 4,
 "nbformat_minor": 5
}
